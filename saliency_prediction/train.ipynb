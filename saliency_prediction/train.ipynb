{
 "cells": [
  {
   "cell_type": "code",
   "execution_count": 1,
   "metadata": {},
   "outputs": [
    {
     "name": "stderr",
     "output_type": "stream",
     "text": [
      "/home/arh/anaconda3/envs/football/lib/python3.10/site-packages/tqdm/auto.py:22: TqdmWarning: IProgress not found. Please update jupyter and ipywidgets. See https://ipywidgets.readthedocs.io/en/stable/user_install.html\n",
      "  from .autonotebook import tqdm as notebook_tqdm\n"
     ]
    }
   ],
   "source": [
    "import os\n",
    "import time\n",
    "import copy\n",
    "import torch\n",
    "import pandas as pd\n",
    "from skimage import io, transform\n",
    "import numpy as np\n",
    "import matplotlib.pyplot as plt\n",
    "from torch.utils.data import Dataset, DataLoader\n",
    "from torchvision import transforms, utils, models\n",
    "import torch.nn as nn\n",
    "import torch.optim as optim\n",
    "from torch.optim import lr_scheduler\n",
    "from tqdm import tqdm\n",
    "from torch.optim.lr_scheduler import ReduceLROnPlateau\n",
    "\n",
    "from utils.loss_function import SaliencyLoss\n",
    "from utils.data_process import MyDataset\n",
    "\n",
    "flag = 1 # 0 for TranSalNet_Dense, 1 for TranSalNet_Res\n",
    "\n",
    "if flag:\n",
    "    from TranSalNet_Res import TranSalNet\n",
    "else:\n",
    "    from TranSalNet_Dense import TranSalNet\n"
   ]
  },
  {
   "cell_type": "markdown",
   "metadata": {},
   "source": [
    "↑↑↑ Set flag=1 to load TranSalNet_Dense,set flag=0 to load TranSalNet_Res."
   ]
  },
  {
   "cell_type": "code",
   "execution_count": 2,
   "metadata": {},
   "outputs": [
    {
     "name": "stdout",
     "output_type": "stream",
     "text": [
      "image              100.jpg\n",
      "map         100_fixMap.jpg\n",
      "fixation    100_fixPts.png\n",
      "text_map           100.jpg\n",
      "Name: 1, dtype: object\n",
      "image              103.jpg\n",
      "map         103_fixMap.jpg\n",
      "fixation    103_fixPts.png\n",
      "text_map           103.jpg\n",
      "Name: 1, dtype: object\n",
      "{'train': 871, 'val': 101}\n"
     ]
    }
   ],
   "source": [
    "train_ids = pd.read_csv(r'datasets/train_ids.csv')\n",
    "val_ids = pd.read_csv(r'datasets/val_ids.csv')\n",
    "print(train_ids.iloc[1])\n",
    "print(val_ids.iloc[1])\n",
    "\n",
    "dataset_sizes = {'train':len(train_ids),'val':len(val_ids)}\n",
    "print(dataset_sizes)"
   ]
  },
  {
   "cell_type": "markdown",
   "metadata": {},
   "source": [
    "↑↑↑Load image id from dataset"
   ]
  },
  {
   "cell_type": "code",
   "execution_count": 3,
   "metadata": {},
   "outputs": [],
   "source": [
    "batch_size = 8\n",
    "train_set = MyDataset(ids=train_ids,\n",
    "                           stimuli_dir=r'datasets/train/train_stimuli/',\n",
    "                           saliency_dir=r'datasets/train/train_saliency/',\n",
    "                           fixation_dir=r'datasets/train/train_fixation/',\n",
    "                           text_map_dir=r'datasets/train/train_text_map/',\n",
    "                           transform=transforms.Compose([\n",
    "                              transforms.ToTensor(),\n",
    "                              transforms.Normalize([0.485, 0.456, 0.406], [0.229, 0.224, 0.225])\n",
    "                            ]))\n",
    "\n",
    "val_set = MyDataset(ids=val_ids,\n",
    "                        stimuli_dir=r'datasets/val/val_stimuli/',\n",
    "                        saliency_dir = r'datasets/val/val_saliency/',\n",
    "                        fixation_dir=r'datasets/val/val_fixation/',\n",
    "                        text_map_dir=r'datasets/val/val_text_map/',\n",
    "                        transform=transforms.Compose([\n",
    "                            transforms.ToTensor(),\n",
    "                            transforms.Normalize([0.485, 0.456, 0.406], [0.229, 0.224, 0.225])\n",
    "                            ]))\n",
    "\n",
    "\n",
    "\n",
    "dataloaders = {'train':DataLoader(train_set, batch_size=batch_size,shuffle=True, num_workers=4)\n",
    "               ,'val':DataLoader(val_set, batch_size=batch_size,shuffle=False, num_workers=4)}\n"
   ]
  },
  {
   "cell_type": "markdown",
   "metadata": {},
   "source": [
    "↑↑↑Set batch_size and Load dataset"
   ]
  },
  {
   "cell_type": "code",
   "execution_count": 4,
   "metadata": {},
   "outputs": [
    {
     "name": "stdout",
     "output_type": "stream",
     "text": [
      "cuda:0\n"
     ]
    }
   ],
   "source": [
    "device = torch.device(\"cuda:0\" if torch.cuda.is_available() else \"cpu\")\n",
    "model = TranSalNet()\n",
    "model = model.to(device)\n",
    "print(device)"
   ]
  },
  {
   "cell_type": "code",
   "execution_count": 5,
   "metadata": {},
   "outputs": [
    {
     "name": "stdout",
     "output_type": "stream",
     "text": [
      "Total number of parameters in the model: 66410497\n"
     ]
    }
   ],
   "source": [
    "total_params = sum(p.numel() for p in model.parameters())\n",
    "print(f\"Total number of parameters in the model: {total_params}\")"
   ]
  },
  {
   "cell_type": "code",
   "execution_count": 6,
   "metadata": {},
   "outputs": [],
   "source": [
    "def mean_std(test_list):\n",
    "    mean = sum(test_list) / len(test_list) \n",
    "    variance = sum([((x - mean) ** 2) for x in test_list]) / len(test_list) \n",
    "    res = variance ** 0.5\n",
    "    return mean , res "
   ]
  },
  {
   "cell_type": "markdown",
   "metadata": {},
   "source": [
    "# Train the model below"
   ]
  },
  {
   "cell_type": "code",
   "execution_count": 7,
   "metadata": {
    "scrolled": true
   },
   "outputs": [
    {
     "name": "stdout",
     "output_type": "stream",
     "text": [
      "encoder.encoder.0.weight: True\n",
      "encoder.encoder.1.weight: True\n",
      "encoder.encoder.1.bias: True\n",
      "encoder.encoder.4.0.conv1.weight: True\n",
      "encoder.encoder.4.0.bn1.weight: True\n",
      "encoder.encoder.4.0.bn1.bias: True\n",
      "encoder.encoder.4.0.conv2.weight: True\n",
      "encoder.encoder.4.0.bn2.weight: True\n",
      "encoder.encoder.4.0.bn2.bias: True\n",
      "encoder.encoder.4.0.conv3.weight: True\n",
      "encoder.encoder.4.0.bn3.weight: True\n",
      "encoder.encoder.4.0.bn3.bias: True\n",
      "encoder.encoder.4.0.downsample.0.weight: True\n",
      "encoder.encoder.4.0.downsample.1.weight: True\n",
      "encoder.encoder.4.0.downsample.1.bias: True\n",
      "encoder.encoder.4.1.conv1.weight: True\n",
      "encoder.encoder.4.1.bn1.weight: True\n",
      "encoder.encoder.4.1.bn1.bias: True\n",
      "encoder.encoder.4.1.conv2.weight: True\n",
      "encoder.encoder.4.1.bn2.weight: True\n",
      "encoder.encoder.4.1.bn2.bias: True\n",
      "encoder.encoder.4.1.conv3.weight: True\n",
      "encoder.encoder.4.1.bn3.weight: True\n",
      "encoder.encoder.4.1.bn3.bias: True\n",
      "encoder.encoder.4.2.conv1.weight: True\n",
      "encoder.encoder.4.2.bn1.weight: True\n",
      "encoder.encoder.4.2.bn1.bias: True\n",
      "encoder.encoder.4.2.conv2.weight: True\n",
      "encoder.encoder.4.2.bn2.weight: True\n",
      "encoder.encoder.4.2.bn2.bias: True\n",
      "encoder.encoder.4.2.conv3.weight: True\n",
      "encoder.encoder.4.2.bn3.weight: True\n",
      "encoder.encoder.4.2.bn3.bias: True\n",
      "encoder.encoder.5.0.conv1.weight: True\n",
      "encoder.encoder.5.0.bn1.weight: True\n",
      "encoder.encoder.5.0.bn1.bias: True\n",
      "encoder.encoder.5.0.conv2.weight: True\n",
      "encoder.encoder.5.0.bn2.weight: True\n",
      "encoder.encoder.5.0.bn2.bias: True\n",
      "encoder.encoder.5.0.conv3.weight: True\n",
      "encoder.encoder.5.0.bn3.weight: True\n",
      "encoder.encoder.5.0.bn3.bias: True\n",
      "encoder.encoder.5.0.downsample.0.weight: True\n",
      "encoder.encoder.5.0.downsample.1.weight: True\n",
      "encoder.encoder.5.0.downsample.1.bias: True\n",
      "encoder.encoder.5.1.conv1.weight: True\n",
      "encoder.encoder.5.1.bn1.weight: True\n",
      "encoder.encoder.5.1.bn1.bias: True\n",
      "encoder.encoder.5.1.conv2.weight: True\n",
      "encoder.encoder.5.1.bn2.weight: True\n",
      "encoder.encoder.5.1.bn2.bias: True\n",
      "encoder.encoder.5.1.conv3.weight: True\n",
      "encoder.encoder.5.1.bn3.weight: True\n",
      "encoder.encoder.5.1.bn3.bias: True\n",
      "encoder.encoder.5.2.conv1.weight: True\n",
      "encoder.encoder.5.2.bn1.weight: True\n",
      "encoder.encoder.5.2.bn1.bias: True\n",
      "encoder.encoder.5.2.conv2.weight: True\n",
      "encoder.encoder.5.2.bn2.weight: True\n",
      "encoder.encoder.5.2.bn2.bias: True\n",
      "encoder.encoder.5.2.conv3.weight: True\n",
      "encoder.encoder.5.2.bn3.weight: True\n",
      "encoder.encoder.5.2.bn3.bias: True\n",
      "encoder.encoder.5.3.conv1.weight: True\n",
      "encoder.encoder.5.3.bn1.weight: True\n",
      "encoder.encoder.5.3.bn1.bias: True\n",
      "encoder.encoder.5.3.conv2.weight: True\n",
      "encoder.encoder.5.3.bn2.weight: True\n",
      "encoder.encoder.5.3.bn2.bias: True\n",
      "encoder.encoder.5.3.conv3.weight: True\n",
      "encoder.encoder.5.3.bn3.weight: True\n",
      "encoder.encoder.5.3.bn3.bias: True\n",
      "encoder.encoder.6.0.conv1.weight: True\n",
      "encoder.encoder.6.0.bn1.weight: True\n",
      "encoder.encoder.6.0.bn1.bias: True\n",
      "encoder.encoder.6.0.conv2.weight: True\n",
      "encoder.encoder.6.0.bn2.weight: True\n",
      "encoder.encoder.6.0.bn2.bias: True\n",
      "encoder.encoder.6.0.conv3.weight: True\n",
      "encoder.encoder.6.0.bn3.weight: True\n",
      "encoder.encoder.6.0.bn3.bias: True\n",
      "encoder.encoder.6.0.downsample.0.weight: True\n",
      "encoder.encoder.6.0.downsample.1.weight: True\n",
      "encoder.encoder.6.0.downsample.1.bias: True\n",
      "encoder.encoder.6.1.conv1.weight: True\n",
      "encoder.encoder.6.1.bn1.weight: True\n",
      "encoder.encoder.6.1.bn1.bias: True\n",
      "encoder.encoder.6.1.conv2.weight: True\n",
      "encoder.encoder.6.1.bn2.weight: True\n",
      "encoder.encoder.6.1.bn2.bias: True\n",
      "encoder.encoder.6.1.conv3.weight: True\n",
      "encoder.encoder.6.1.bn3.weight: True\n",
      "encoder.encoder.6.1.bn3.bias: True\n",
      "encoder.encoder.6.2.conv1.weight: True\n",
      "encoder.encoder.6.2.bn1.weight: True\n",
      "encoder.encoder.6.2.bn1.bias: True\n",
      "encoder.encoder.6.2.conv2.weight: True\n",
      "encoder.encoder.6.2.bn2.weight: True\n",
      "encoder.encoder.6.2.bn2.bias: True\n",
      "encoder.encoder.6.2.conv3.weight: True\n",
      "encoder.encoder.6.2.bn3.weight: True\n",
      "encoder.encoder.6.2.bn3.bias: True\n",
      "encoder.encoder.6.3.conv1.weight: True\n",
      "encoder.encoder.6.3.bn1.weight: True\n",
      "encoder.encoder.6.3.bn1.bias: True\n",
      "encoder.encoder.6.3.conv2.weight: True\n",
      "encoder.encoder.6.3.bn2.weight: True\n",
      "encoder.encoder.6.3.bn2.bias: True\n",
      "encoder.encoder.6.3.conv3.weight: True\n",
      "encoder.encoder.6.3.bn3.weight: True\n",
      "encoder.encoder.6.3.bn3.bias: True\n",
      "encoder.encoder.6.4.conv1.weight: True\n",
      "encoder.encoder.6.4.bn1.weight: True\n",
      "encoder.encoder.6.4.bn1.bias: True\n",
      "encoder.encoder.6.4.conv2.weight: True\n",
      "encoder.encoder.6.4.bn2.weight: True\n",
      "encoder.encoder.6.4.bn2.bias: True\n",
      "encoder.encoder.6.4.conv3.weight: True\n",
      "encoder.encoder.6.4.bn3.weight: True\n",
      "encoder.encoder.6.4.bn3.bias: True\n",
      "encoder.encoder.6.5.conv1.weight: True\n",
      "encoder.encoder.6.5.bn1.weight: True\n",
      "encoder.encoder.6.5.bn1.bias: True\n",
      "encoder.encoder.6.5.conv2.weight: True\n",
      "encoder.encoder.6.5.bn2.weight: True\n",
      "encoder.encoder.6.5.bn2.bias: True\n",
      "encoder.encoder.6.5.conv3.weight: True\n",
      "encoder.encoder.6.5.bn3.weight: True\n",
      "encoder.encoder.6.5.bn3.bias: True\n",
      "encoder.encoder.7.0.conv1.weight: True\n",
      "encoder.encoder.7.0.bn1.weight: True\n",
      "encoder.encoder.7.0.bn1.bias: True\n",
      "encoder.encoder.7.0.conv2.weight: True\n",
      "encoder.encoder.7.0.bn2.weight: True\n",
      "encoder.encoder.7.0.bn2.bias: True\n",
      "encoder.encoder.7.0.conv3.weight: True\n",
      "encoder.encoder.7.0.bn3.weight: True\n",
      "encoder.encoder.7.0.bn3.bias: True\n",
      "encoder.encoder.7.0.downsample.0.weight: True\n",
      "encoder.encoder.7.0.downsample.1.weight: True\n",
      "encoder.encoder.7.0.downsample.1.bias: True\n",
      "encoder.encoder.7.1.conv1.weight: True\n",
      "encoder.encoder.7.1.bn1.weight: True\n",
      "encoder.encoder.7.1.bn1.bias: True\n",
      "encoder.encoder.7.1.conv2.weight: True\n",
      "encoder.encoder.7.1.bn2.weight: True\n",
      "encoder.encoder.7.1.bn2.bias: True\n",
      "encoder.encoder.7.1.conv3.weight: True\n",
      "encoder.encoder.7.1.bn3.weight: True\n",
      "encoder.encoder.7.1.bn3.bias: True\n",
      "encoder.encoder.7.2.conv1.weight: True\n",
      "encoder.encoder.7.2.bn1.weight: True\n",
      "encoder.encoder.7.2.bn1.bias: True\n",
      "encoder.encoder.7.2.conv2.weight: True\n",
      "encoder.encoder.7.2.bn2.weight: True\n",
      "encoder.encoder.7.2.bn2.bias: True\n",
      "encoder.encoder.7.2.conv3.weight: True\n",
      "encoder.encoder.7.2.bn3.weight: True\n",
      "encoder.encoder.7.2.bn3.bias: True\n",
      "decoder.conv1.weight: True\n",
      "decoder.conv1.bias: True\n",
      "decoder.conv2.weight: True\n",
      "decoder.conv2.bias: True\n",
      "decoder.conv3.weight: True\n",
      "decoder.conv3.bias: True\n",
      "decoder.conv4.weight: True\n",
      "decoder.conv4.bias: True\n",
      "decoder.conv5.weight: True\n",
      "decoder.conv5.bias: True\n",
      "decoder.conv6.weight: True\n",
      "decoder.conv6.bias: True\n",
      "decoder.conv7.weight: True\n",
      "decoder.conv7.bias: True\n",
      "decoder.batchnorm1.weight: True\n",
      "decoder.batchnorm1.bias: True\n",
      "decoder.batchnorm2.weight: True\n",
      "decoder.batchnorm2.bias: True\n",
      "decoder.batchnorm3.weight: True\n",
      "decoder.batchnorm3.bias: True\n",
      "decoder.batchnorm4.weight: True\n",
      "decoder.batchnorm4.bias: True\n",
      "decoder.batchnorm5.weight: True\n",
      "decoder.batchnorm5.bias: True\n",
      "decoder.batchnorm6.weight: True\n",
      "decoder.batchnorm6.bias: True\n",
      "decoder.TransEncoder1.position_embeddings: True\n",
      "decoder.TransEncoder1.patch_embeddings.weight: True\n",
      "decoder.TransEncoder1.patch_embeddings.bias: True\n",
      "decoder.TransEncoder1.transformer_encoder.layer.0.ffn_norm.weight: True\n",
      "decoder.TransEncoder1.transformer_encoder.layer.0.ffn_norm.bias: True\n",
      "decoder.TransEncoder1.transformer_encoder.layer.0.ffn.fc1.weight: True\n",
      "decoder.TransEncoder1.transformer_encoder.layer.0.ffn.fc1.bias: True\n",
      "decoder.TransEncoder1.transformer_encoder.layer.0.ffn.fc2.weight: True\n",
      "decoder.TransEncoder1.transformer_encoder.layer.0.ffn.fc2.bias: True\n",
      "decoder.TransEncoder1.transformer_encoder.layer.0.attn.keys.weight: True\n",
      "decoder.TransEncoder1.transformer_encoder.layer.0.attn.keys.bias: True\n",
      "decoder.TransEncoder1.transformer_encoder.layer.0.attn.queries.weight: True\n",
      "decoder.TransEncoder1.transformer_encoder.layer.0.attn.queries.bias: True\n",
      "decoder.TransEncoder1.transformer_encoder.layer.0.attn.values.weight: True\n",
      "decoder.TransEncoder1.transformer_encoder.layer.0.attn.values.bias: True\n",
      "decoder.TransEncoder1.transformer_encoder.layer.0.attn.reprojection.weight: True\n",
      "decoder.TransEncoder1.transformer_encoder.layer.0.attn.reprojection.bias: True\n",
      "decoder.TransEncoder1.transformer_encoder.layer.0.attention_norm.weight: True\n",
      "decoder.TransEncoder1.transformer_encoder.layer.0.attention_norm.bias: True\n",
      "decoder.TransEncoder1.transformer_encoder.layer.1.ffn_norm.weight: True\n",
      "decoder.TransEncoder1.transformer_encoder.layer.1.ffn_norm.bias: True\n",
      "decoder.TransEncoder1.transformer_encoder.layer.1.ffn.fc1.weight: True\n",
      "decoder.TransEncoder1.transformer_encoder.layer.1.ffn.fc1.bias: True\n",
      "decoder.TransEncoder1.transformer_encoder.layer.1.ffn.fc2.weight: True\n",
      "decoder.TransEncoder1.transformer_encoder.layer.1.ffn.fc2.bias: True\n",
      "decoder.TransEncoder1.transformer_encoder.layer.1.attn.keys.weight: True\n",
      "decoder.TransEncoder1.transformer_encoder.layer.1.attn.keys.bias: True\n",
      "decoder.TransEncoder1.transformer_encoder.layer.1.attn.queries.weight: True\n",
      "decoder.TransEncoder1.transformer_encoder.layer.1.attn.queries.bias: True\n",
      "decoder.TransEncoder1.transformer_encoder.layer.1.attn.values.weight: True\n",
      "decoder.TransEncoder1.transformer_encoder.layer.1.attn.values.bias: True\n",
      "decoder.TransEncoder1.transformer_encoder.layer.1.attn.reprojection.weight: True\n",
      "decoder.TransEncoder1.transformer_encoder.layer.1.attn.reprojection.bias: True\n",
      "decoder.TransEncoder1.transformer_encoder.layer.1.attention_norm.weight: True\n",
      "decoder.TransEncoder1.transformer_encoder.layer.1.attention_norm.bias: True\n",
      "decoder.TransEncoder1.transformer_encoder.encoder_norm.weight: True\n",
      "decoder.TransEncoder1.transformer_encoder.encoder_norm.bias: True\n",
      "decoder.TransEncoder2.position_embeddings: True\n",
      "decoder.TransEncoder2.patch_embeddings.weight: True\n",
      "decoder.TransEncoder2.patch_embeddings.bias: True\n",
      "decoder.TransEncoder2.transformer_encoder.layer.0.ffn_norm.weight: True\n",
      "decoder.TransEncoder2.transformer_encoder.layer.0.ffn_norm.bias: True\n",
      "decoder.TransEncoder2.transformer_encoder.layer.0.ffn.fc1.weight: True\n",
      "decoder.TransEncoder2.transformer_encoder.layer.0.ffn.fc1.bias: True\n",
      "decoder.TransEncoder2.transformer_encoder.layer.0.ffn.fc2.weight: True\n",
      "decoder.TransEncoder2.transformer_encoder.layer.0.ffn.fc2.bias: True\n",
      "decoder.TransEncoder2.transformer_encoder.layer.0.attn.keys.weight: True\n",
      "decoder.TransEncoder2.transformer_encoder.layer.0.attn.keys.bias: True\n",
      "decoder.TransEncoder2.transformer_encoder.layer.0.attn.queries.weight: True\n",
      "decoder.TransEncoder2.transformer_encoder.layer.0.attn.queries.bias: True\n",
      "decoder.TransEncoder2.transformer_encoder.layer.0.attn.values.weight: True\n",
      "decoder.TransEncoder2.transformer_encoder.layer.0.attn.values.bias: True\n",
      "decoder.TransEncoder2.transformer_encoder.layer.0.attn.reprojection.weight: True\n",
      "decoder.TransEncoder2.transformer_encoder.layer.0.attn.reprojection.bias: True\n",
      "decoder.TransEncoder2.transformer_encoder.layer.0.attention_norm.weight: True\n",
      "decoder.TransEncoder2.transformer_encoder.layer.0.attention_norm.bias: True\n",
      "decoder.TransEncoder2.transformer_encoder.layer.1.ffn_norm.weight: True\n",
      "decoder.TransEncoder2.transformer_encoder.layer.1.ffn_norm.bias: True\n",
      "decoder.TransEncoder2.transformer_encoder.layer.1.ffn.fc1.weight: True\n",
      "decoder.TransEncoder2.transformer_encoder.layer.1.ffn.fc1.bias: True\n",
      "decoder.TransEncoder2.transformer_encoder.layer.1.ffn.fc2.weight: True\n",
      "decoder.TransEncoder2.transformer_encoder.layer.1.ffn.fc2.bias: True\n",
      "decoder.TransEncoder2.transformer_encoder.layer.1.attn.keys.weight: True\n",
      "decoder.TransEncoder2.transformer_encoder.layer.1.attn.keys.bias: True\n",
      "decoder.TransEncoder2.transformer_encoder.layer.1.attn.queries.weight: True\n",
      "decoder.TransEncoder2.transformer_encoder.layer.1.attn.queries.bias: True\n",
      "decoder.TransEncoder2.transformer_encoder.layer.1.attn.values.weight: True\n",
      "decoder.TransEncoder2.transformer_encoder.layer.1.attn.values.bias: True\n",
      "decoder.TransEncoder2.transformer_encoder.layer.1.attn.reprojection.weight: True\n",
      "decoder.TransEncoder2.transformer_encoder.layer.1.attn.reprojection.bias: True\n",
      "decoder.TransEncoder2.transformer_encoder.layer.1.attention_norm.weight: True\n",
      "decoder.TransEncoder2.transformer_encoder.layer.1.attention_norm.bias: True\n",
      "decoder.TransEncoder2.transformer_encoder.encoder_norm.weight: True\n",
      "decoder.TransEncoder2.transformer_encoder.encoder_norm.bias: True\n",
      "decoder.TransEncoder3.position_embeddings: True\n",
      "decoder.TransEncoder3.patch_embeddings.weight: True\n",
      "decoder.TransEncoder3.patch_embeddings.bias: True\n",
      "decoder.TransEncoder3.transformer_encoder.layer.0.ffn_norm.weight: True\n",
      "decoder.TransEncoder3.transformer_encoder.layer.0.ffn_norm.bias: True\n",
      "decoder.TransEncoder3.transformer_encoder.layer.0.ffn.fc1.weight: True\n",
      "decoder.TransEncoder3.transformer_encoder.layer.0.ffn.fc1.bias: True\n",
      "decoder.TransEncoder3.transformer_encoder.layer.0.ffn.fc2.weight: True\n",
      "decoder.TransEncoder3.transformer_encoder.layer.0.ffn.fc2.bias: True\n",
      "decoder.TransEncoder3.transformer_encoder.layer.0.attn.keys.weight: True\n",
      "decoder.TransEncoder3.transformer_encoder.layer.0.attn.keys.bias: True\n",
      "decoder.TransEncoder3.transformer_encoder.layer.0.attn.queries.weight: True\n",
      "decoder.TransEncoder3.transformer_encoder.layer.0.attn.queries.bias: True\n",
      "decoder.TransEncoder3.transformer_encoder.layer.0.attn.values.weight: True\n",
      "decoder.TransEncoder3.transformer_encoder.layer.0.attn.values.bias: True\n",
      "decoder.TransEncoder3.transformer_encoder.layer.0.attn.reprojection.weight: True\n",
      "decoder.TransEncoder3.transformer_encoder.layer.0.attn.reprojection.bias: True\n",
      "decoder.TransEncoder3.transformer_encoder.layer.0.attention_norm.weight: True\n",
      "decoder.TransEncoder3.transformer_encoder.layer.0.attention_norm.bias: True\n",
      "decoder.TransEncoder3.transformer_encoder.encoder_norm.weight: True\n",
      "decoder.TransEncoder3.transformer_encoder.encoder_norm.bias: True\n",
      "Epoch 1/30\n",
      "----------\n"
     ]
    },
    {
     "name": "stderr",
     "output_type": "stream",
     "text": [
      "109it [00:48,  2.25it/s]"
     ]
    },
    {
     "name": "stdout",
     "output_type": "stream",
     "text": [
      "train Loss: 3.8485\n",
      "train KL : 0.8863\n",
      "train CC : 0.6732\n",
      "train SIM : 0.5238\n",
      "train NSS : 1.9087\n",
      "train\n",
      "mean_kl : 0.886070189126041 , STD: 0.2588492037247794\n",
      "mean_cc : 0.6732835672248941 , STD: 0.09381172940839672\n",
      "mean_sim : 0.5238615793919345 , STD: 0.07635097573237871\n",
      "mean_nss : 1.9089143816894347 , STD: 0.2860457148945107\n"
     ]
    },
    {
     "name": "stderr",
     "output_type": "stream",
     "text": [
      "\n",
      "13it [00:02,  6.34it/s]"
     ]
    },
    {
     "name": "stdout",
     "output_type": "stream",
     "text": [
      "val Loss: 0.6832\n",
      "val KL : 0.6163\n",
      "val CC : 0.7343\n",
      "val SIM : 0.5811\n",
      "val NSS : 2.0821\n",
      "val\n",
      "mean_kl : 0.6200805810781626 , STD: 0.10090686683478292\n",
      "mean_cc : 0.7321204130466168 , STD: 0.048045951021515126\n",
      "mean_sim : 0.5791160922784072 , STD: 0.04732619095304672\n",
      "mean_nss : 2.076773817722614 , STD: 0.20147162050444117\n",
      "Epoch 2/30\n",
      "----------\n"
     ]
    },
    {
     "name": "stderr",
     "output_type": "stream",
     "text": [
      "\n",
      "109it [00:47,  2.30it/s]"
     ]
    },
    {
     "name": "stdout",
     "output_type": "stream",
     "text": [
      "train Loss: -0.0266\n",
      "train KL : 0.5842\n",
      "train CC : 0.7591\n",
      "train SIM : 0.6163\n",
      "train NSS : 2.2465\n",
      "train\n",
      "mean_kl : 0.5842886616330628 , STD: 0.0758434787130835\n",
      "mean_cc : 0.7590079887197652 , STD: 0.035851254479135584\n",
      "mean_sim : 0.6162630636757667 , STD: 0.027050242219136527\n",
      "mean_nss : 2.2462808954606364 , STD: 0.16013224766822134\n"
     ]
    },
    {
     "name": "stderr",
     "output_type": "stream",
     "text": [
      "\n",
      "13it [00:02,  6.36it/s]"
     ]
    },
    {
     "name": "stdout",
     "output_type": "stream",
     "text": [
      "val Loss: 1.3033\n",
      "val KL : 0.6820\n",
      "val CC : 0.7102\n",
      "val SIM : 0.5998\n",
      "val NSS : 2.1036\n",
      "val\n",
      "mean_kl : 0.6892397816364582 , STD: 0.10625931155929158\n",
      "mean_cc : 0.7067656837976896 , STD: 0.05539135596485143\n",
      "mean_sim : 0.5974281705342807 , STD: 0.04345238676841346\n",
      "mean_nss : 2.0951403196041403 , STD: 0.24903805192686448\n",
      "Epoch 3/30\n",
      "----------\n"
     ]
    },
    {
     "name": "stderr",
     "output_type": "stream",
     "text": [
      "\n",
      "109it [00:47,  2.30it/s]"
     ]
    },
    {
     "name": "stdout",
     "output_type": "stream",
     "text": [
      "train Loss: -1.9344\n",
      "train KL : 0.4468\n",
      "train CC : 0.8196\n",
      "train SIM : 0.6769\n",
      "train NSS : 2.4532\n",
      "train\n",
      "mean_kl : 0.4468014207454996 , STD: 0.05801497093021465\n",
      "mean_cc : 0.8196231865007942 , STD: 0.02700689461984712\n",
      "mean_sim : 0.6769589606775056 , STD: 0.02608523214647227\n",
      "mean_nss : 2.4535165839239 , STD: 0.14062943142553885\n"
     ]
    },
    {
     "name": "stderr",
     "output_type": "stream",
     "text": [
      "\n",
      "13it [00:02,  6.41it/s]"
     ]
    },
    {
     "name": "stdout",
     "output_type": "stream",
     "text": [
      "val Loss: -0.3637\n",
      "val KL : 0.5598\n",
      "val CC : 0.7653\n",
      "val SIM : 0.6422\n",
      "val NSS : 2.2771\n",
      "val\n",
      "mean_kl : 0.5654547673005325 , STD: 0.0973299665628839\n",
      "mean_cc : 0.7627027539106516 , STD: 0.047141177682684436\n",
      "mean_sim : 0.6399387304599469 , STD: 0.04434486579441145\n",
      "mean_nss : 2.271057679102971 , STD: 0.23537347150139593\n",
      "Epoch 4/30\n",
      "----------\n"
     ]
    },
    {
     "name": "stderr",
     "output_type": "stream",
     "text": [
      "\n",
      "109it [00:47,  2.30it/s]"
     ]
    },
    {
     "name": "stdout",
     "output_type": "stream",
     "text": [
      "train Loss: -2.7702\n",
      "train KL : 0.3872\n",
      "train CC : 0.8469\n",
      "train SIM : 0.7062\n",
      "train NSS : 2.5444\n",
      "train\n",
      "mean_kl : 0.3871874013625154 , STD: 0.05154920162081152\n",
      "mean_cc : 0.8469237597710496 , STD: 0.023337162946795664\n",
      "mean_sim : 0.7061643797323245 , STD: 0.021980524790346387\n",
      "mean_nss : 2.5445556137539924 , STD: 0.16957103634424542\n"
     ]
    },
    {
     "name": "stderr",
     "output_type": "stream",
     "text": [
      "\n",
      "13it [00:02,  6.48it/s]"
     ]
    },
    {
     "name": "stdout",
     "output_type": "stream",
     "text": [
      "val Loss: -0.4911\n",
      "val KL : 0.5486\n",
      "val CC : 0.7706\n",
      "val SIM : 0.6467\n",
      "val NSS : 2.2801\n",
      "val\n",
      "mean_kl : 0.5536045730113983 , STD: 0.09932636353310337\n",
      "mean_cc : 0.7685597722346966 , STD: 0.04495019336662334\n",
      "mean_sim : 0.6447020539870629 , STD: 0.042504739507715\n",
      "mean_nss : 2.276254708950336 , STD: 0.2231050564031888\n",
      "Epoch 5/30\n",
      "----------\n"
     ]
    },
    {
     "name": "stderr",
     "output_type": "stream",
     "text": [
      "\n",
      "109it [00:47,  2.30it/s]"
     ]
    },
    {
     "name": "stdout",
     "output_type": "stream",
     "text": [
      "train Loss: -3.3669\n",
      "train KL : 0.3435\n",
      "train CC : 0.8668\n",
      "train SIM : 0.7254\n",
      "train NSS : 2.6048\n",
      "train\n",
      "mean_kl : 0.3435040168259122 , STD: 0.04675785415638952\n",
      "mean_cc : 0.8668137531761729 , STD: 0.019186848900818818\n",
      "mean_sim : 0.7253539994222309 , STD: 0.02155506553253832\n",
      "mean_nss : 2.605317034852614 , STD: 0.12815123670066922\n"
     ]
    },
    {
     "name": "stderr",
     "output_type": "stream",
     "text": [
      "\n",
      "13it [00:01,  6.55it/s]"
     ]
    },
    {
     "name": "stdout",
     "output_type": "stream",
     "text": [
      "val Loss: -0.3124\n",
      "val KL : 0.5682\n",
      "val CC : 0.7673\n",
      "val SIM : 0.6463\n",
      "val NSS : 2.2907\n",
      "val\n",
      "mean_kl : 0.573732655781966 , STD: 0.1035517281347695\n",
      "mean_cc : 0.7652208438286414 , STD: 0.04516250947839038\n",
      "mean_sim : 0.6443495246080252 , STD: 0.041921270480106465\n",
      "mean_nss : 2.2864942183861365 , STD: 0.23044224818223422\n",
      "Epoch 6/30\n",
      "----------\n"
     ]
    },
    {
     "name": "stderr",
     "output_type": "stream",
     "text": [
      "\n",
      "109it [00:47,  2.32it/s]"
     ]
    },
    {
     "name": "stdout",
     "output_type": "stream",
     "text": [
      "train Loss: -3.4673\n",
      "train KL : 0.3366\n",
      "train CC : 0.8692\n",
      "train SIM : 0.7314\n",
      "train NSS : 2.6165\n",
      "train\n",
      "mean_kl : 0.3367020506924445 , STD: 0.04340285941887825\n",
      "mean_cc : 0.869185762121043 , STD: 0.019319943124793397\n",
      "mean_sim : 0.7313394595723633 , STD: 0.018617164569609518\n",
      "mean_nss : 2.6164320302665782 , STD: 0.15277916116428422\n"
     ]
    },
    {
     "name": "stderr",
     "output_type": "stream",
     "text": [
      "\n",
      "13it [00:01,  6.54it/s]"
     ]
    },
    {
     "name": "stdout",
     "output_type": "stream",
     "text": [
      "val Loss: -0.2543\n",
      "val KL : 0.5730\n",
      "val CC : 0.7663\n",
      "val SIM : 0.6464\n",
      "val NSS : 2.2857\n",
      "val\n",
      "mean_kl : 0.5783494252424973 , STD: 0.10385197108197948\n",
      "mean_cc : 0.7642540060556852 , STD: 0.04495063732670184\n",
      "mean_sim : 0.6444264145997854 , STD: 0.04203448344350473\n",
      "mean_nss : 2.2816891486828146 , STD: 0.22662989620148816\n",
      "Epoch 7/30\n",
      "----------\n"
     ]
    },
    {
     "name": "stderr",
     "output_type": "stream",
     "text": [
      "\n",
      "109it [00:47,  2.32it/s]"
     ]
    },
    {
     "name": "stdout",
     "output_type": "stream",
     "text": [
      "train Loss: -3.5534\n",
      "train KL : 0.3301\n",
      "train CC : 0.8723\n",
      "train SIM : 0.7345\n",
      "train NSS : 2.6240\n",
      "train\n",
      "mean_kl : 0.3300663566370623 , STD: 0.053215378197081976\n",
      "mean_cc : 0.8722826280725111 , STD: 0.020954031803933806\n",
      "mean_sim : 0.7344722261122607 , STD: 0.02430478044956812\n",
      "mean_nss : 2.623901647165281 , STD: 0.13406274188772718\n"
     ]
    },
    {
     "name": "stderr",
     "output_type": "stream",
     "text": [
      "\n",
      "13it [00:01,  6.56it/s]"
     ]
    },
    {
     "name": "stdout",
     "output_type": "stream",
     "text": [
      "val Loss: -0.2057\n",
      "val KL : 0.5770\n",
      "val CC : 0.7660\n",
      "val SIM : 0.6469\n",
      "val NSS : 2.2813\n",
      "val\n",
      "mean_kl : 0.5824463321612432 , STD: 0.10675336182087486\n",
      "mean_cc : 0.7639967065591079 , STD: 0.04560408771309737\n",
      "mean_sim : 0.6449914849721469 , STD: 0.04261676300278605\n",
      "mean_nss : 2.2774516619168796 , STD: 0.22793701605077138\n",
      "Epoch 8/30\n",
      "----------\n"
     ]
    },
    {
     "name": "stderr",
     "output_type": "stream",
     "text": [
      "\n",
      "109it [00:47,  2.32it/s]"
     ]
    },
    {
     "name": "stdout",
     "output_type": "stream",
     "text": [
      "train Loss: -3.5653\n",
      "train KL : 0.3293\n",
      "train CC : 0.8727\n",
      "train SIM : 0.7349\n",
      "train NSS : 2.6256\n",
      "train\n",
      "mean_kl : 0.32935089720498534 , STD: 0.04311177796807762\n",
      "mean_cc : 0.8726561550700337 , STD: 0.018985546691814865\n",
      "mean_sim : 0.7348475297656628 , STD: 0.019438318334591084\n",
      "mean_nss : 2.625428805657483 , STD: 0.14295527071554648\n"
     ]
    },
    {
     "name": "stderr",
     "output_type": "stream",
     "text": [
      "\n",
      "13it [00:01,  6.51it/s]"
     ]
    },
    {
     "name": "stdout",
     "output_type": "stream",
     "text": [
      "val Loss: -0.1795\n",
      "val KL : 0.5791\n",
      "val CC : 0.7649\n",
      "val SIM : 0.6454\n",
      "val NSS : 2.2803\n",
      "val\n",
      "mean_kl : 0.5844631309692676 , STD: 0.10459664420189176\n",
      "mean_cc : 0.763000291127425 , STD: 0.04514951376404567\n",
      "mean_sim : 0.6435319781303406 , STD: 0.04193370793631337\n",
      "mean_nss : 2.276536904848539 , STD: 0.22860999572888405\n",
      "Epoch 9/30\n",
      "----------\n"
     ]
    },
    {
     "name": "stderr",
     "output_type": "stream",
     "text": [
      "\n",
      "109it [00:47,  2.32it/s]"
     ]
    },
    {
     "name": "stdout",
     "output_type": "stream",
     "text": [
      "train Loss: -3.5715\n",
      "train KL : 0.3288\n",
      "train CC : 0.8726\n",
      "train SIM : 0.7349\n",
      "train NSS : 2.6262\n",
      "train\n",
      "mean_kl : 0.3288558282709997 , STD: 0.042005923660906865\n",
      "mean_cc : 0.8726412139901327 , STD: 0.019801011138753318\n",
      "mean_sim : 0.7348756965147246 , STD: 0.019846753311577453\n",
      "mean_nss : 2.626243895346965 , STD: 0.15557411093351703\n"
     ]
    },
    {
     "name": "stderr",
     "output_type": "stream",
     "text": [
      "\n",
      "13it [00:01,  6.52it/s]"
     ]
    },
    {
     "name": "stdout",
     "output_type": "stream",
     "text": [
      "val Loss: -0.2011\n",
      "val KL : 0.5789\n",
      "val CC : 0.7670\n",
      "val SIM : 0.6488\n",
      "val NSS : 2.2872\n",
      "val\n",
      "mean_kl : 0.5843399052436535 , STD: 0.10586683040389414\n",
      "mean_cc : 0.7651891800073477 , STD: 0.0437924291413231\n",
      "mean_sim : 0.6469571773822491 , STD: 0.041246205416815\n",
      "mean_nss : 2.2839256066542406 , STD: 0.22685751342168167\n",
      "early stop!\n",
      "Best val loss: -0.491074\n"
     ]
    },
    {
     "name": "stderr",
     "output_type": "stream",
     "text": [
      "\n"
     ]
    },
    {
     "data": {
      "text/plain": [
       "<All keys matched successfully>"
      ]
     },
     "execution_count": 7,
     "metadata": {},
     "output_type": "execute_result"
    }
   ],
   "source": [
    "optimizer = optim.Adam(model.parameters(),lr=5e-4 , weight_decay = 1e-4)\n",
    "\n",
    "scheduler = lr_scheduler.StepLR(optimizer, step_size=2, gamma=0.1)\n",
    "#scheduler = lr_scheduler.LambdaLR(optimizer, lambda x: 0.5**min(x/15, 1))\n",
    "\n",
    "loss_fn = SaliencyLoss()\n",
    "\n",
    "'''Training'''\n",
    "best_model_wts = copy.deepcopy(model.state_dict())\n",
    "num_epochs =30\n",
    "best_loss = 100\n",
    "for k,v in model.named_parameters():\n",
    "    print('{}: {}'.format(k, v.requires_grad))\n",
    "\n",
    "             \n",
    "for epoch in range(num_epochs):\n",
    "\n",
    "    print('Epoch {}/{}'.format(epoch + 1, num_epochs))\n",
    "    print('-' * 10)\n",
    "\n",
    "    # Each epoch has a training and validation phase\n",
    "    for phase in ['train', 'val']:\n",
    "        if phase == 'train':\n",
    "            model.train()  # Set model to training mode\n",
    "        else:\n",
    "            model.eval()   # Set model to evaluate mode\n",
    "\n",
    "        running_loss = 0.0\n",
    "        kl_loss = 0.0\n",
    "        cc_loss = 0.0 \n",
    "        sim_loss = 0.0\n",
    "        nss_loss = 0.0\n",
    "        kl_loss_list = []\n",
    "        cc_loss_list = []\n",
    "        sim_loss_list = []\n",
    "        nss_loss_list = []\n",
    "\n",
    "        # Iterate over data.\n",
    "        for i_batch, sample_batched in tqdm(enumerate(dataloaders[phase])):\n",
    "            stimuli, smap, fmap , tmap  = sample_batched['image'], sample_batched['saliency'], sample_batched['fixation'] , sample_batched['text_map'] \n",
    "            stimuli, smap, fmap , tmap = stimuli.type(torch.cuda.FloatTensor), smap.type(torch.cuda.FloatTensor), fmap.type(torch.cuda.FloatTensor) , tmap.type(torch.cuda.FloatTensor)\n",
    "            stimuli, smap, fmap , tmap = stimuli.to(device), smap.to(device), fmap.to(device) , tmap.to(device)\n",
    "\n",
    "            # zero the parameter gradients\n",
    "            optimizer.zero_grad()\n",
    "\n",
    "            # forward\n",
    "            # track history if only in train\n",
    "            with torch.set_grad_enabled(phase == 'train'):\n",
    "                outputs = model(stimuli , tmap)\n",
    "                kl = loss_fn(outputs,smap,loss_type='kldiv')\n",
    "                kl_loss_list.append(kl.detach().cpu().numpy()[0])\n",
    "                cc = loss_fn(outputs,smap,loss_type='cc')\n",
    "                cc_loss_list.append(cc.detach().cpu().numpy()[0])\n",
    "                sim = loss_fn(outputs,smap,loss_type='sim')\n",
    "                sim_loss_list.append(sim.detach().cpu().numpy()[0])\n",
    "                nss = loss_fn(outputs,fmap,loss_type='nss')\n",
    "                nss_loss_list.append(nss.detach().cpu().numpy()[0])\n",
    "\n",
    "                loss = -1*cc\\\n",
    "                        -1*sim+\\\n",
    "                        10*kl-2*nss\n",
    "                \n",
    "                \n",
    "#                 loss1 = kl \n",
    "                \n",
    "#                 loss2 = nn.MSELoss()(outputs, smap)\n",
    "                \n",
    "#                 loss = loss1 + loss2\n",
    "\n",
    "                # backward + optimize only if in training phase\n",
    "                if phase == 'train':\n",
    "                    loss.backward()\n",
    "                    optimizer.step()\n",
    "\n",
    "            # statistics\n",
    "            running_loss += loss.item() * stimuli.size(0)\n",
    "            \n",
    "            kl_loss += kl.item() * stimuli.size(0)\n",
    "            cc_loss += cc.item() * stimuli.size(0)\n",
    "            sim_loss += sim.item() * stimuli.size(0)\n",
    "            nss_loss += nss.item() * stimuli.size(0)\n",
    "\n",
    "\n",
    "\n",
    "        if phase == 'train':\n",
    "            scheduler.step()\n",
    "            \n",
    "        epoch_loss = running_loss / dataset_sizes[phase]    \n",
    "\n",
    "        epoch_loss_kl = kl_loss / dataset_sizes[phase]\n",
    "        epoch_loss_cc = cc_loss / dataset_sizes[phase]\n",
    "        epoch_loss_sim = sim_loss / dataset_sizes[phase]\n",
    "        epoch_loss_nss = nss_loss / dataset_sizes[phase]\n",
    "\n",
    "        print('{} Loss: {:.4f}'.format(\n",
    "            phase, epoch_loss))\n",
    "              \n",
    "        print('{} KL : {:.4f}'.format(\n",
    "            phase, epoch_loss_kl))\n",
    "        \n",
    "        print('{} CC : {:.4f}'.format(\n",
    "            phase, epoch_loss_cc))\n",
    "        \n",
    "        print('{} SIM : {:.4f}'.format(\n",
    "            phase, epoch_loss_sim))\n",
    "        \n",
    "        print('{} NSS : {:.4f}'.format(\n",
    "            phase, epoch_loss_nss))\n",
    "        \n",
    "        print(phase)\n",
    "        m , s = mean_std(kl_loss_list)\n",
    "        print(f\"mean_kl : {m} , STD: {s}\")\n",
    "        m , s = mean_std(cc_loss_list)\n",
    "        print(f\"mean_cc : {m} , STD: {s}\")\n",
    "        m , s = mean_std(sim_loss_list)\n",
    "        print(f\"mean_sim : {m} , STD: {s}\")\n",
    "        m , s = mean_std(nss_loss_list)\n",
    "        print(f\"mean_nss : {m} , STD: {s}\")\n",
    "\n",
    "        if phase == 'val' and epoch_loss < best_loss:\n",
    "            best_loss = epoch_loss\n",
    "            best_model_wts = copy.deepcopy(model.state_dict())\n",
    "            counter = 0\n",
    "        elif phase == 'val' and epoch_loss >= best_loss:\n",
    "            counter += 1\n",
    "            if counter ==5:\n",
    "                print('early stop!')\n",
    "                break\n",
    "    else:\n",
    "        continue\n",
    "    break\n",
    "    print()\n",
    "\n",
    "\n",
    "print('Best val loss: {:4f}'.format(best_loss))\n",
    "model.load_state_dict(best_model_wts)"
   ]
  },
  {
   "cell_type": "markdown",
   "metadata": {
    "jp-MarkdownHeadingCollapsed": true,
    "tags": []
   },
   "source": [
    "# Save the model below"
   ]
  },
  {
   "cell_type": "code",
   "execution_count": 8,
   "metadata": {},
   "outputs": [],
   "source": [
    "savepath = r'Ar_sal_model_most_new.pth'\n",
    "torch.save(model.state_dict(),savepath)"
   ]
  },
  {
   "cell_type": "code",
   "execution_count": null,
   "metadata": {},
   "outputs": [],
   "source": []
  }
 ],
 "metadata": {
  "kernelspec": {
   "display_name": "football",
   "language": "python",
   "name": "football"
  },
  "language_info": {
   "codemirror_mode": {
    "name": "ipython",
    "version": 3
   },
   "file_extension": ".py",
   "mimetype": "text/x-python",
   "name": "python",
   "nbconvert_exporter": "python",
   "pygments_lexer": "ipython3",
   "version": "3.10.8"
  }
 },
 "nbformat": 4,
 "nbformat_minor": 4
}
